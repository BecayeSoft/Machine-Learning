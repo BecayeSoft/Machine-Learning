{
 "cells": [
  {
   "cell_type": "markdown",
   "metadata": {
    "colab_type": "text",
    "id": "t9oX7AL3nyLm"
   },
   "source": [
    "# Self Organizing Map"
   ]
  },
  {
   "cell_type": "code",
   "execution_count": 53,
   "metadata": {
    "colab": {
     "base_uri": "https://localhost:8080/",
     "height": 34
    },
    "colab_type": "code",
    "id": "1KB28WUso0Bj",
    "outputId": "e8fb3cdd-73e2-49c2-9976-25be1b37e9e6"
   },
   "outputs": [],
   "source": [
    "# !pip install MiniSom"
   ]
  },
  {
   "cell_type": "code",
   "execution_count": 54,
   "metadata": {},
   "outputs": [],
   "source": [
    "import math\n",
    "import numpy as np\n",
    "import pandas as pd\n",
    "import matplotlib.pyplot as plt\n",
    "\n",
    "from pylab import bone, pcolor, colorbar, plot, show\n",
    "import pylab as pl"
   ]
  },
  {
   "cell_type": "markdown",
   "metadata": {
    "colab_type": "text",
    "id": "SCl7ERn_n539",
    "tags": []
   },
   "source": [
    "## Importing the dataset"
   ]
  },
  {
   "cell_type": "markdown",
   "metadata": {},
   "source": [
    "This dataset contains information about customers who applied for a credit card. 0 means  rejected and 1 means approved.\n",
    "Our goal is to detect the outliers, i.e the approved customers who are potentially fraudulent.\n",
    "\n",
    "Since SOMs are unsupervised, we won't use the labels for training. Instead, they will compared to the SOM results."
   ]
  },
  {
   "cell_type": "code",
   "execution_count": 55,
   "metadata": {
    "colab": {},
    "colab_type": "code",
    "id": "4hgeaN3CoRfl"
   },
   "outputs": [],
   "source": [
    "dataset = pd.read_csv('Credit_Card_Applications.csv')\n",
    "features = dataset.iloc[:, :-1].values \n",
    "labels = dataset.iloc[:, -1].values"
   ]
  },
  {
   "cell_type": "code",
   "execution_count": 56,
   "metadata": {},
   "outputs": [
    {
     "name": "stdout",
     "output_type": "stream",
     "text": [
      "<class 'pandas.core.frame.DataFrame'>\n",
      "RangeIndex: 690 entries, 0 to 689\n",
      "Data columns (total 16 columns):\n",
      " #   Column      Non-Null Count  Dtype  \n",
      "---  ------      --------------  -----  \n",
      " 0   CustomerID  690 non-null    int64  \n",
      " 1   A1          690 non-null    int64  \n",
      " 2   A2          690 non-null    float64\n",
      " 3   A3          690 non-null    float64\n",
      " 4   A4          690 non-null    int64  \n",
      " 5   A5          690 non-null    int64  \n",
      " 6   A6          690 non-null    int64  \n",
      " 7   A7          690 non-null    float64\n",
      " 8   A8          690 non-null    int64  \n",
      " 9   A9          690 non-null    int64  \n",
      " 10  A10         690 non-null    int64  \n",
      " 11  A11         690 non-null    int64  \n",
      " 12  A12         690 non-null    int64  \n",
      " 13  A13         690 non-null    int64  \n",
      " 14  A14         690 non-null    int64  \n",
      " 15  Class       690 non-null    int64  \n",
      "dtypes: float64(3), int64(13)\n",
      "memory usage: 86.4 KB\n",
      "None\n"
     ]
    },
    {
     "data": {
      "text/html": [
       "<div>\n",
       "<style scoped>\n",
       "    .dataframe tbody tr th:only-of-type {\n",
       "        vertical-align: middle;\n",
       "    }\n",
       "\n",
       "    .dataframe tbody tr th {\n",
       "        vertical-align: top;\n",
       "    }\n",
       "\n",
       "    .dataframe thead th {\n",
       "        text-align: right;\n",
       "    }\n",
       "</style>\n",
       "<table border=\"1\" class=\"dataframe\">\n",
       "  <thead>\n",
       "    <tr style=\"text-align: right;\">\n",
       "      <th></th>\n",
       "      <th>CustomerID</th>\n",
       "      <th>A1</th>\n",
       "      <th>A2</th>\n",
       "      <th>A3</th>\n",
       "      <th>A4</th>\n",
       "      <th>A5</th>\n",
       "      <th>A6</th>\n",
       "      <th>A7</th>\n",
       "      <th>A8</th>\n",
       "      <th>A9</th>\n",
       "      <th>A10</th>\n",
       "      <th>A11</th>\n",
       "      <th>A12</th>\n",
       "      <th>A13</th>\n",
       "      <th>A14</th>\n",
       "      <th>Class</th>\n",
       "    </tr>\n",
       "  </thead>\n",
       "  <tbody>\n",
       "    <tr>\n",
       "      <th>0</th>\n",
       "      <td>15776156</td>\n",
       "      <td>1</td>\n",
       "      <td>22.08</td>\n",
       "      <td>11.46</td>\n",
       "      <td>2</td>\n",
       "      <td>4</td>\n",
       "      <td>4</td>\n",
       "      <td>1.585</td>\n",
       "      <td>0</td>\n",
       "      <td>0</td>\n",
       "      <td>0</td>\n",
       "      <td>1</td>\n",
       "      <td>2</td>\n",
       "      <td>100</td>\n",
       "      <td>1213</td>\n",
       "      <td>0</td>\n",
       "    </tr>\n",
       "    <tr>\n",
       "      <th>1</th>\n",
       "      <td>15739548</td>\n",
       "      <td>0</td>\n",
       "      <td>22.67</td>\n",
       "      <td>7.00</td>\n",
       "      <td>2</td>\n",
       "      <td>8</td>\n",
       "      <td>4</td>\n",
       "      <td>0.165</td>\n",
       "      <td>0</td>\n",
       "      <td>0</td>\n",
       "      <td>0</td>\n",
       "      <td>0</td>\n",
       "      <td>2</td>\n",
       "      <td>160</td>\n",
       "      <td>1</td>\n",
       "      <td>0</td>\n",
       "    </tr>\n",
       "    <tr>\n",
       "      <th>2</th>\n",
       "      <td>15662854</td>\n",
       "      <td>0</td>\n",
       "      <td>29.58</td>\n",
       "      <td>1.75</td>\n",
       "      <td>1</td>\n",
       "      <td>4</td>\n",
       "      <td>4</td>\n",
       "      <td>1.250</td>\n",
       "      <td>0</td>\n",
       "      <td>0</td>\n",
       "      <td>0</td>\n",
       "      <td>1</td>\n",
       "      <td>2</td>\n",
       "      <td>280</td>\n",
       "      <td>1</td>\n",
       "      <td>0</td>\n",
       "    </tr>\n",
       "    <tr>\n",
       "      <th>3</th>\n",
       "      <td>15687688</td>\n",
       "      <td>0</td>\n",
       "      <td>21.67</td>\n",
       "      <td>11.50</td>\n",
       "      <td>1</td>\n",
       "      <td>5</td>\n",
       "      <td>3</td>\n",
       "      <td>0.000</td>\n",
       "      <td>1</td>\n",
       "      <td>1</td>\n",
       "      <td>11</td>\n",
       "      <td>1</td>\n",
       "      <td>2</td>\n",
       "      <td>0</td>\n",
       "      <td>1</td>\n",
       "      <td>1</td>\n",
       "    </tr>\n",
       "    <tr>\n",
       "      <th>4</th>\n",
       "      <td>15715750</td>\n",
       "      <td>1</td>\n",
       "      <td>20.17</td>\n",
       "      <td>8.17</td>\n",
       "      <td>2</td>\n",
       "      <td>6</td>\n",
       "      <td>4</td>\n",
       "      <td>1.960</td>\n",
       "      <td>1</td>\n",
       "      <td>1</td>\n",
       "      <td>14</td>\n",
       "      <td>0</td>\n",
       "      <td>2</td>\n",
       "      <td>60</td>\n",
       "      <td>159</td>\n",
       "      <td>1</td>\n",
       "    </tr>\n",
       "  </tbody>\n",
       "</table>\n",
       "</div>"
      ],
      "text/plain": [
       "   CustomerID  A1     A2     A3  A4  A5  A6     A7  A8  A9  A10  A11  A12  \\\n",
       "0    15776156   1  22.08  11.46   2   4   4  1.585   0   0    0    1    2   \n",
       "1    15739548   0  22.67   7.00   2   8   4  0.165   0   0    0    0    2   \n",
       "2    15662854   0  29.58   1.75   1   4   4  1.250   0   0    0    1    2   \n",
       "3    15687688   0  21.67  11.50   1   5   3  0.000   1   1   11    1    2   \n",
       "4    15715750   1  20.17   8.17   2   6   4  1.960   1   1   14    0    2   \n",
       "\n",
       "   A13   A14  Class  \n",
       "0  100  1213      0  \n",
       "1  160     1      0  \n",
       "2  280     1      0  \n",
       "3    0     1      1  \n",
       "4   60   159      1  "
      ]
     },
     "execution_count": 56,
     "metadata": {},
     "output_type": "execute_result"
    }
   ],
   "source": [
    "print(dataset.info())\n",
    "dataset.head()"
   ]
  },
  {
   "cell_type": "markdown",
   "metadata": {
    "colab_type": "text",
    "id": "fYHJ0dd6n-d4"
   },
   "source": [
    "## Feature Scaling\n"
   ]
  },
  {
   "cell_type": "code",
   "execution_count": 57,
   "metadata": {
    "colab": {},
    "colab_type": "code",
    "id": "sY7JiUxwoSOd"
   },
   "outputs": [],
   "source": [
    "from sklearn.preprocessing import MinMaxScaler\n",
    "sc = MinMaxScaler(feature_range = (0,1))\n",
    "features = sc.fit_transform(features)"
   ]
  },
  {
   "cell_type": "code",
   "execution_count": 58,
   "metadata": {},
   "outputs": [
    {
     "data": {
      "text/plain": [
       "array([0.84268147, 1.        , 0.12526316, 0.40928571, 0.5       ,\n",
       "       0.23076923, 0.375     , 0.05561404, 0.        , 0.        ,\n",
       "       0.        , 1.        , 0.5       , 0.05      , 0.01212   ])"
      ]
     },
     "execution_count": 58,
     "metadata": {},
     "output_type": "execute_result"
    }
   ],
   "source": [
    "features[0]"
   ]
  },
  {
   "cell_type": "markdown",
   "metadata": {
    "colab_type": "text",
    "id": "aPp-7wfNoAhR"
   },
   "source": [
    "## Training the SOM\n"
   ]
  },
  {
   "cell_type": "markdown",
   "metadata": {},
   "source": [
    "According to the doc, a general rule of thumb to set the size of the grid for a dimensionality reduction task is that it should contain 5 * sqrt(N) neurons where N is the number of samples.\n",
    "\n",
    "Our map_size will be sqrt(5 * 690) = 58\n",
    "map_size = map_height * map_width = (12, 12)"
   ]
  },
  {
   "cell_type": "code",
   "execution_count": 59,
   "metadata": {},
   "outputs": [],
   "source": [
    "map_size = 5 * math.sqrt(len(features))\n",
    "map_height = map_width = math.ceil(math.sqrt(map_size))"
   ]
  },
  {
   "cell_type": "code",
   "execution_count": 60,
   "metadata": {},
   "outputs": [
    {
     "name": "stdout",
     "output_type": "stream",
     "text": [
      "(map_height, map_width) = (12, 12)\n",
      "Number of features: 15\n"
     ]
    }
   ],
   "source": [
    "print(f'(map_height, map_width) = ({map_height}, {map_width})')\n",
    "print(f'Number of features: {features.shape[1]}')"
   ]
  },
  {
   "cell_type": "code",
   "execution_count": 61,
   "metadata": {
    "colab": {},
    "colab_type": "code",
    "id": "3iuAhM6ooS0k"
   },
   "outputs": [],
   "source": [
    "from minisom import MiniSom\n",
    "\n",
    "som = MiniSom(x=map_height, y=map_width, input_len=features.shape[1], sigma=1.0, learning_rate=0.5,\n",
    "               topology='hexagonal', random_seed=123)\n",
    "som.random_weights_init(features)\n",
    "som.train_random(data = features, num_iteration = 100)"
   ]
  },
  {
   "cell_type": "markdown",
   "metadata": {},
   "source": [
    "## Understanding the results"
   ]
  },
  {
   "cell_type": "markdown",
   "metadata": {},
   "source": [
    "The wining node is the one that is the closest to the input feature Xi.\n",
    "We can get its coordinates (x, y) on the map by using the winner() method."
   ]
  },
  {
   "cell_type": "code",
   "execution_count": 62,
   "metadata": {},
   "outputs": [
    {
     "data": {
      "text/plain": [
       "(9, 8)"
      ]
     },
     "execution_count": 62,
     "metadata": {},
     "output_type": "execute_result"
    }
   ],
   "source": [
    "som.winner(features[0])"
   ]
  },
  {
   "cell_type": "markdown",
   "metadata": {},
   "source": [
    "The distance map is a 2D array (12x12) where each element represents the average distance between a neuron and its neighbors."
   ]
  },
  {
   "cell_type": "code",
   "execution_count": 63,
   "metadata": {},
   "outputs": [
    {
     "name": "stdout",
     "output_type": "stream",
     "text": [
      "-------------\n",
      "Distance Map\n",
      "------------\n",
      "Shape: (12, 12)\n",
      "First Line: [0.17511248 0.3471176  0.31250851 0.50742247 0.47147037 0.57784171\n",
      " 0.69111328 0.7003696  0.59045295 0.50168131 0.47053189 0.29468357]\n"
     ]
    }
   ],
   "source": [
    "print('-------------\\nDistance Map\\n------------')\n",
    "print(f'Shape: {som.distance_map().shape}')\n",
    "print(f'First Line: {som.distance_map().T[0]}')"
   ]
  },
  {
   "cell_type": "markdown",
   "metadata": {},
   "source": [
    "The frequencies is a 2D array where each neuron at (x,y) is the number of time the neuron was winner\n",
    "E.g: neuron located at (2, 5) may contains 7 "
   ]
  },
  {
   "cell_type": "code",
   "execution_count": 64,
   "metadata": {},
   "outputs": [
    {
     "name": "stdout",
     "output_type": "stream",
     "text": [
      "Frequencies:\n",
      " [[ 2  1 10  3  3  5  6  4  0  5  8  5]\n",
      " [23  0  1  4  7  5  5  0  7  0  4  0]\n",
      " [ 0  0  0  8  2  3  3  3  0  0  7  5]\n",
      " [11  3  4 18  2  1 13  0  2  3  5  6]\n",
      " [ 8  0  1  3  8  0  2  0  9  3  4  2]\n",
      " [23 15 16  7  4  6  2  0 14  5  1 16]\n",
      " [15  7  4  7  0  3  1  3 11  6  6  0]\n",
      " [ 3  3  5  2  4  0  8  4  2  0  2  3]\n",
      " [11  3  5  9  0  0  1  6  2  2  3 10]\n",
      " [ 3  4  2  0  2  9  0  1  9  6  0  0]\n",
      " [ 8  3  5 19  0  0  0 17  7  8  9 11]\n",
      " [ 6  1  5  0  1 15  6  5  1  4  8  8]]\n"
     ]
    }
   ],
   "source": [
    "frequencies = som.activation_response(features)\n",
    "print(f'Frequencies:\\n {np.array(frequencies, np.uint)}')"
   ]
  },
  {
   "cell_type": "markdown",
   "metadata": {
    "colab_type": "text",
    "id": "YiU27C-ToCnH",
    "tags": []
   },
   "source": [
    "## Visualizing the results\n"
   ]
  },
  {
   "cell_type": "markdown",
   "metadata": {
    "tags": []
   },
   "source": [
    "### Helper functions"
   ]
  },
  {
   "cell_type": "code",
   "execution_count": 65,
   "metadata": {},
   "outputs": [],
   "source": [
    "def plot_distance_map(ax, fig):\n",
    "    \"\"\"Plot the distance map\"\"\"\n",
    "    p = ax.pcolor(som.distance_map().T, cmap='bone_r') # cmap='Blues'\n",
    "    # ax.colorbar()\n",
    "    fig.colorbar(p, ax=ax)"
   ]
  },
  {
   "cell_type": "code",
   "execution_count": 66,
   "metadata": {},
   "outputs": [],
   "source": [
    "def plot_clusters_scatter(ax):\n",
    "    \"\"\"\n",
    "    Create a scatter plot of the winning neurons. \n",
    "    Each neuron is assigned the color of the cluster it belongs to.\n",
    "    \"\"\" \n",
    "    # Get the winning neuron coordinates for each sample \n",
    "    # The coordinates are transformed into an array for the scatter plot: (1,1) => [1,1]\n",
    "    winning_neurons = np.array([som.winner(x) for x in features])\n",
    "\n",
    "    # Add a random offset to avoid overlaps between points within the same cell\n",
    "    offset = np.random.uniform(low=-0.4, high=0.4, size=(len(features), 2))\n",
    "    winning_neurons = winning_neurons + offset\n",
    "\n",
    "    # Define the colors based on the labels\n",
    "    colors = ['#ff0400', 'g']\n",
    "    label_colors = [colors[label] for label in labels]\n",
    "\n",
    "    # Create the scatter plot\n",
    "    # 1st column represent x and second, y coordinate\n",
    "    ax.scatter(winning_neurons[:,0], winning_neurons[:,1], s=10, c=label_colors)\n",
    "    "
   ]
  },
  {
   "cell_type": "code",
   "execution_count": 67,
   "metadata": {},
   "outputs": [],
   "source": [
    "def plot_clusters_markers(ax):\n",
    "    \"\"\"\n",
    "    Plot the winning neurons as markers.\n",
    "    Each marker is assigned the color of the cluster ir belongs to.\n",
    "    \"\"\"\n",
    "    markers = ['s', '^']\n",
    "    colors = ['#ff0400', 'g']\n",
    "    for i, feature in enumerate(features):\n",
    "        w = som.winner(feature)\n",
    "        ax.plot(w[0] + 0.5, w[1] + 0.5, \n",
    "            markers[labels[i]], markeredgecolor = colors[labels[i]], \n",
    "            markerfacecolor = 'None', markersize = 10, markeredgewidth = 1)\n",
    "        \n",
    "    # legend\n",
    "    ax.legend(handles=[plt.Line2D([], [], color='#ff0400', marker='^', linestyle='None', label='Rejected'),\n",
    "                    plt.Line2D([], [], color='green', marker='s', linestyle='None', label='Approved')],\n",
    "                    bbox_to_anchor=(1.5, 1.03))"
   ]
  },
  {
   "cell_type": "markdown",
   "metadata": {},
   "source": [
    "### Distance Map, points, clusters"
   ]
  },
  {
   "cell_type": "code",
   "execution_count": 68,
   "metadata": {},
   "outputs": [
    {
     "data": {
      "image/png": "[encoded data removed]",
      "text/plain": [
       "<Figure size 1200x400 with 4 Axes>"
      ]
     },
     "metadata": {},
     "output_type": "display_data"
    }
   ],
   "source": [
    "fig, axes = plt.subplots(1, 3, figsize=(12, 4))\n",
    "\n",
    "plot_distance_map(axes[0], fig)\n",
    "plot_clusters_scatter(axes[1])\n",
    "plot_clusters_markers(axes[2])\n",
    "\n",
    "plt.suptitle(\"Credit card fraud applicants\")\n",
    "plt.show()"
   ]
  },
  {
   "cell_type": "markdown",
   "metadata": {},
   "source": [
    "## Conclusion\n",
    "The light shades represent the clusters whereas the darkers ones are the separation beteen these clusters. However, the SOM clusters that are very different from the two types of applications (approved and rejected). Our SOM is not able to capture \n",
    "\n",
    "There are several potential reasons for this failure:\n",
    "\n",
    "1. Insufficient or irrelevant features: The features might not be the most relevant ones for distinguishing between approved and rejected applications. \n",
    "2. Hyperparameter tuning: number of nodes, learning rate, neighborhood size, and training iterations might be optimized.\n",
    "3. Complex decision boundaries: Credit card approval decisions often involve complex decision boundaries that are not easily captured by simple clustering algorithms like SOM."
   ]
  },
  {
   "cell_type": "markdown",
   "metadata": {
    "colab_type": "text",
    "id": "4C-I_jBfoEkP",
    "tags": []
   },
   "source": [
    "## Finding the frauds\n",
    "Proposed by Hadelin de Ponteves from the course [Deep Learning A-Z](https://www.udemy.com/course/deeplearning/learn/lecture/6744694#overview), this section might requires additional analysis to make sure the interpretations are correct."
   ]
  },
  {
   "cell_type": "markdown",
   "metadata": {},
   "source": [
    "win_map returns a dictionary where ech key is the coordinates and each value is an array of all the corresponding input features.\n",
    "E.g: { (6, 2): [ [0.84, ..., 0.012   ], ..., [0.81, ..., 0.17] ] }\n",
    "\n",
    "Look at the map, and you get can get visually infer the coordinates that contain data.\n",
    "E.g.: (x,y) = (2,5)"
   ]
  },
  {
   "cell_type": "code",
   "execution_count": 79,
   "metadata": {
    "collapsed": true,
    "jupyter": {
     "outputs_hidden": true
    },
    "tags": []
   },
   "outputs": [
    {
     "name": "stdout",
     "output_type": "stream",
     "text": [
      "((9, 8), [array([0.84268147, 1.        , 0.12526316, 0.40928571, 0.5       ,\n",
      "       0.23076923, 0.375     , 0.05561404, 0.        , 0.        ,\n",
      "       0.        , 1.        , 0.5       , 0.05      , 0.01212   ]), array([0.72114172, 1.        , 0.15533835, 0.32142857, 0.5       ,\n",
      "       0.38461538, 0.375     , 0.00877193, 0.        , 0.        ,\n",
      "       0.        , 1.        , 0.5       , 0.        , 0.        ]), array([0.98014648, 1.        , 0.30706767, 0.09821429, 0.5       ,\n",
      "       0.15384615, 0.5       , 0.0877193 , 0.        , 0.        ,\n",
      "       0.        , 1.        , 0.5       , 0.116     , 0.002     ]), array([0.89100585, 1.        , 0.09398496, 0.39446429, 0.5       ,\n",
      "       0.53846154, 0.375     , 0.07017544, 0.        , 0.        ,\n",
      "       0.        , 1.        , 0.5       , 0.068     , 0.        ]), array([0.59042402, 1.        , 0.20556391, 0.44642857, 0.5       ,\n",
      "       0.38461538, 0.5       , 0.00877193, 0.        , 0.        ,\n",
      "       0.        , 1.        , 0.5       , 0.36      , 0.        ]), array([0.7976967 , 1.        , 0.13157895, 0.41071429, 0.        ,\n",
      "       0.46153846, 0.375     , 0.05263158, 0.        , 0.        ,\n",
      "       0.        , 1.        , 0.5       , 0.        , 0.04      ]), array([0.89857005, 1.        , 0.05639098, 0.78571429, 1.        ,\n",
      "       0.        , 0.75      , 0.        , 0.        , 0.        ,\n",
      "       0.        , 1.        , 1.        , 0.225     , 1.        ]), array([0.67920025, 1.        , 0.19428571, 0.52089286, 0.5       ,\n",
      "       0.15384615, 0.5       , 0.        , 0.        , 0.        ,\n",
      "       0.        , 1.        , 0.5       , 0.089     , 0.        ]), array([0.9237974 , 1.        , 0.14781955, 0.06392857, 0.5       ,\n",
      "       0.53846154, 0.375     , 0.01894737, 0.        , 0.        ,\n",
      "       0.        , 1.        , 0.5       , 0.068     , 0.00001   ])])\n"
     ]
    }
   ],
   "source": [
    "mappings = som.win_map(features)\n",
    "print(list(mappings.items())[0])"
   ]
  },
  {
   "cell_type": "code",
   "execution_count": 70,
   "metadata": {
    "colab": {},
    "colab_type": "code",
    "id": "4xd-jb8doTlM"
   },
   "outputs": [
    {
     "data": {
      "text/plain": [
       "[array([0.13505039, 1.        , 0.67413534, 0.09678571, 0.5       ,\n",
       "        0.53846154, 0.375     , 0.08473684, 0.        , 0.        ,\n",
       "        0.        , 1.        , 0.5       , 0.16      , 0.        ]),\n",
       " array([0.20068955, 1.        , 0.30706767, 0.1875    , 0.5       ,\n",
       "        0.61538462, 0.375     , 0.00298246, 0.        , 0.        ,\n",
       "        0.        , 1.        , 0.5       , 0.145     , 0.00006   ]),\n",
       " array([0.11651831, 1.        , 0.2793985 , 0.08928571, 0.5       ,\n",
       "        0.53846154, 0.375     , 0.04385965, 0.        , 0.        ,\n",
       "        0.        , 1.        , 0.5       , 0.14      , 0.        ]),\n",
       " array([0.46368263, 1.        , 0.50496241, 0.23214286, 0.5       ,\n",
       "        0.53846154, 0.375     , 0.03508772, 0.        , 0.        ,\n",
       "        0.        , 1.        , 0.5       , 0.        , 0.00228   ]),\n",
       " array([0.1012938 , 1.        , 0.5124812 , 0.14875   , 0.5       ,\n",
       "        1.        , 0.5       , 0.00298246, 0.        , 0.        ,\n",
       "        0.        , 1.        , 0.5       , 0.26      , 0.        ]),\n",
       " array([0.08630155, 1.        , 0.22300752, 0.12946429, 0.5       ,\n",
       "        0.38461538, 0.375     , 0.00877193, 0.        , 0.        ,\n",
       "        0.        , 1.        , 0.5       , 0.05      , 0.        ])]"
      ]
     },
     "execution_count": 70,
     "metadata": {},
     "output_type": "execute_result"
    }
   ],
   "source": [
    "frauds = mappings[(8, 7)]\n",
    "frauds"
   ]
  },
  {
   "cell_type": "code",
   "execution_count": 71,
   "metadata": {},
   "outputs": [
    {
     "data": {
      "text/plain": [
       "array([[15599440.   ,        1.   ,       58.58 ,        2.71 ,\n",
       "               2.   ,        8.   ,        4.   ,        2.415,\n",
       "               0.   ,        0.   ,        0.   ,        1.   ,\n",
       "               2.   ,      320.   ,        1.   ],\n",
       "       [15615832.   ,        1.   ,       34.17 ,        5.25 ,\n",
       "               2.   ,        9.   ,        4.   ,        0.085,\n",
       "               0.   ,        0.   ,        0.   ,        1.   ,\n",
       "               2.   ,      290.   ,        7.   ],\n",
       "       [15594812.   ,        1.   ,       32.33 ,        2.5  ,\n",
       "               2.   ,        8.   ,        4.   ,        1.25 ,\n",
       "               0.   ,        0.   ,        0.   ,        1.   ,\n",
       "               2.   ,      280.   ,        1.   ],\n",
       "       [15681509.   ,        1.   ,       47.33 ,        6.5  ,\n",
       "               2.   ,        8.   ,        4.   ,        1.   ,\n",
       "               0.   ,        0.   ,        0.   ,        1.   ,\n",
       "               2.   ,        0.   ,      229.   ],\n",
       "       [15591010.   ,        1.   ,       47.83 ,        4.165,\n",
       "               2.   ,       14.   ,        5.   ,        0.085,\n",
       "               0.   ,        0.   ,        0.   ,        1.   ,\n",
       "               2.   ,      520.   ,        1.   ],\n",
       "       [15587266.   ,        1.   ,       28.58 ,        3.625,\n",
       "               2.   ,        6.   ,        4.   ,        0.25 ,\n",
       "               0.   ,        0.   ,        0.   ,        1.   ,\n",
       "               2.   ,      100.   ,        1.   ]])"
      ]
     },
     "execution_count": 71,
     "metadata": {},
     "output_type": "execute_result"
    }
   ],
   "source": [
    "np.set_printoptions(suppress=True)\n",
    "frauds = sc.inverse_transform(frauds)\n",
    "frauds"
   ]
  },
  {
   "cell_type": "markdown",
   "metadata": {
    "colab_type": "text",
    "id": "frXqAlpo84b1"
   },
   "source": [
    "## Printing a Fraunch Client"
   ]
  },
  {
   "cell_type": "code",
   "execution_count": 72,
   "metadata": {},
   "outputs": [
    {
     "data": {
      "text/plain": [
       "array([15599440.   ,        1.   ,       58.58 ,        2.71 ,\n",
       "              2.   ,        8.   ,        4.   ,        2.415,\n",
       "              0.   ,        0.   ,        0.   ,        1.   ,\n",
       "              2.   ,      320.   ,        1.   ])"
      ]
     },
     "execution_count": 72,
     "metadata": {},
     "output_type": "execute_result"
    }
   ],
   "source": [
    "frauds[0]"
   ]
  }
 ],
 "metadata": {
  "colab": {
   "collapsed_sections": [],
   "name": "SOM.ipynb",
   "provenance": [],
   "toc_visible": true
  },
  "kernelspec": {
   "display_name": "Python 3 (ipykernel)",
   "language": "python",
   "name": "python3"
  },
  "language_info": {
   "codemirror_mode": {
    "name": "ipython",
    "version": 3
   },
   "file_extension": ".py",
   "mimetype": "text/x-python",
   "name": "python",
   "nbconvert_exporter": "python",
   "pygments_lexer": "ipython3",
   "version": "3.10.11"
  }
 },
 "nbformat": 4,
 "nbformat_minor": 4
}
